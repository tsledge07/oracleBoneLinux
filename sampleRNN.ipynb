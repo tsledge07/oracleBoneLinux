{
  "nbformat": 4,
  "nbformat_minor": 0,
  "metadata": {
    "colab": {
      "name": "sampleRNN.ipynb",
      "provenance": [],
      "collapsed_sections": []
    },
    "kernelspec": {
      "name": "python3",
      "display_name": "Python 3"
    },
    "language_info": {
      "name": "python"
    }
  },
  "cells": [
    {
      "cell_type": "code",
      "metadata": {
        "id": "UeFyjXxvEqBc"
      },
      "source": [
        "'''\n",
        "Tyler Sledge\n",
        "CSC 485\n",
        "Sample Recurrent Neural Network Architecture\n",
        "'''\n",
        "\n",
        "import numpy as np\n",
        "import tensorflow as tf\n",
        "from tensorflow import keras\n",
        "from tensorflow.keras import layers"
      ],
      "execution_count": 3,
      "outputs": []
    },
    {
      "cell_type": "code",
      "metadata": {
        "colab": {
          "base_uri": "https://localhost:8080/"
        },
        "id": "PHYASvo7FQ6z",
        "outputId": "41783cc4-4561-40d5-a8f4-33beaf6e7c22"
      },
      "source": [
        "model = keras.Sequential()\n",
        "# Add an Embedding layer expecting input vocab of size 1000, and\n",
        "# output embedding dimension of size 64.\n",
        "model.add(layers.Embedding(input_dim=1000, output_dim=64))\n",
        "\n",
        "# Add a LSTM layer with 128 internal units.\n",
        "model.add(layers.LSTM(128))\n",
        "\n",
        "# Add a Dense layer with 10 units.\n",
        "model.add(layers.Dense(10))\n",
        "\n",
        "model.summary()"
      ],
      "execution_count": 4,
      "outputs": [
        {
          "output_type": "stream",
          "text": [
            "Model: \"sequential\"\n",
            "_________________________________________________________________\n",
            "Layer (type)                 Output Shape              Param #   \n",
            "=================================================================\n",
            "embedding (Embedding)        (None, None, 64)          64000     \n",
            "_________________________________________________________________\n",
            "lstm (LSTM)                  (None, 128)               98816     \n",
            "_________________________________________________________________\n",
            "dense (Dense)                (None, 10)                1290      \n",
            "=================================================================\n",
            "Total params: 164,106\n",
            "Trainable params: 164,106\n",
            "Non-trainable params: 0\n",
            "_________________________________________________________________\n"
          ],
          "name": "stdout"
        }
      ]
    },
    {
      "cell_type": "code",
      "metadata": {
        "colab": {
          "base_uri": "https://localhost:8080/"
        },
        "id": "d4OxalsyFdJf",
        "outputId": "183f6257-86be-4f99-f2c1-38f148ad731d"
      },
      "source": [
        "model = keras.Sequential()\n",
        "model.add(layers.Embedding(input_dim=1000, output_dim=64))\n",
        "\n",
        "# The output of GRU will be a 3D tensor of shape (batch_size, timesteps, 256)\n",
        "model.add(layers.GRU(256, return_sequences=True))\n",
        "\n",
        "# The output of SimpleRNN will be a 2D tensor of shape (batch_size, 128)\n",
        "model.add(layers.SimpleRNN(128))\n",
        "\n",
        "model.add(layers.Dense(10))\n",
        "\n",
        "model.summary()"
      ],
      "execution_count": 5,
      "outputs": [
        {
          "output_type": "stream",
          "text": [
            "Model: \"sequential_1\"\n",
            "_________________________________________________________________\n",
            "Layer (type)                 Output Shape              Param #   \n",
            "=================================================================\n",
            "embedding_1 (Embedding)      (None, None, 64)          64000     \n",
            "_________________________________________________________________\n",
            "gru (GRU)                    (None, None, 256)         247296    \n",
            "_________________________________________________________________\n",
            "simple_rnn (SimpleRNN)       (None, 128)               49280     \n",
            "_________________________________________________________________\n",
            "dense_1 (Dense)              (None, 10)                1290      \n",
            "=================================================================\n",
            "Total params: 361,866\n",
            "Trainable params: 361,866\n",
            "Non-trainable params: 0\n",
            "_________________________________________________________________\n"
          ],
          "name": "stdout"
        }
      ]
    },
    {
      "cell_type": "code",
      "metadata": {
        "colab": {
          "base_uri": "https://localhost:8080/"
        },
        "id": "lgQ0dtJsFpzf",
        "outputId": "4fda2f92-3280-4c3f-a373-6f341ac1bb51"
      },
      "source": [
        "encoder_vocab = 1000\n",
        "decoder_vocab = 2000\n",
        "\n",
        "encoder_input = layers.Input(shape=(None,))\n",
        "encoder_embedded = layers.Embedding(input_dim=encoder_vocab, output_dim=64)(\n",
        "    encoder_input\n",
        ")\n",
        "\n",
        "# Return states in addition to output\n",
        "output, state_h, state_c = layers.LSTM(64, return_state=True, name=\"encoder\")(\n",
        "    encoder_embedded\n",
        ")\n",
        "encoder_state = [state_h, state_c]\n",
        "\n",
        "decoder_input = layers.Input(shape=(None,))\n",
        "decoder_embedded = layers.Embedding(input_dim=decoder_vocab, output_dim=64)(\n",
        "    decoder_input\n",
        ")\n",
        "\n",
        "# Pass the 2 states to a new LSTM layer, as initial state\n",
        "decoder_output = layers.LSTM(64, name=\"decoder\")(\n",
        "    decoder_embedded, initial_state=encoder_state\n",
        ")\n",
        "output = layers.Dense(10)(decoder_output)\n",
        "\n",
        "model = keras.Model([encoder_input, decoder_input], output)\n",
        "model.summary()"
      ],
      "execution_count": 6,
      "outputs": [
        {
          "output_type": "stream",
          "text": [
            "Model: \"model\"\n",
            "__________________________________________________________________________________________________\n",
            "Layer (type)                    Output Shape         Param #     Connected to                     \n",
            "==================================================================================================\n",
            "input_1 (InputLayer)            [(None, None)]       0                                            \n",
            "__________________________________________________________________________________________________\n",
            "input_2 (InputLayer)            [(None, None)]       0                                            \n",
            "__________________________________________________________________________________________________\n",
            "embedding_2 (Embedding)         (None, None, 64)     64000       input_1[0][0]                    \n",
            "__________________________________________________________________________________________________\n",
            "embedding_3 (Embedding)         (None, None, 64)     128000      input_2[0][0]                    \n",
            "__________________________________________________________________________________________________\n",
            "encoder (LSTM)                  [(None, 64), (None,  33024       embedding_2[0][0]                \n",
            "__________________________________________________________________________________________________\n",
            "decoder (LSTM)                  (None, 64)           33024       embedding_3[0][0]                \n",
            "                                                                 encoder[0][1]                    \n",
            "                                                                 encoder[0][2]                    \n",
            "__________________________________________________________________________________________________\n",
            "dense_2 (Dense)                 (None, 10)           650         decoder[0][0]                    \n",
            "==================================================================================================\n",
            "Total params: 258,698\n",
            "Trainable params: 258,698\n",
            "Non-trainable params: 0\n",
            "__________________________________________________________________________________________________\n"
          ],
          "name": "stdout"
        }
      ]
    },
    {
      "cell_type": "code",
      "metadata": {
        "id": "QVAaRkqsF_d0"
      },
      "source": [
        "paragraph1 = np.random.random((20, 10, 50)).astype(np.float32)\n",
        "paragraph2 = np.random.random((20, 10, 50)).astype(np.float32)\n",
        "paragraph3 = np.random.random((20, 10, 50)).astype(np.float32)\n",
        "\n",
        "lstm_layer = layers.LSTM(64, stateful=True)\n",
        "output = lstm_layer(paragraph1)\n",
        "output = lstm_layer(paragraph2)\n",
        "output = lstm_layer(paragraph3)\n",
        "\n",
        "# reset_states() will reset the cached state to the original initial_state.\n",
        "# If no initial_state was provided, zero-states will be used by default.\n",
        "lstm_layer.reset_states()"
      ],
      "execution_count": 7,
      "outputs": []
    },
    {
      "cell_type": "code",
      "metadata": {
        "id": "F7WEfup-Gcqe"
      },
      "source": [
        "batch_size = 64\n",
        "# Each MNIST image batch is a tensor of shape (batch_size, 28, 28).\n",
        "# Each input sequence will be of size (28, 28) (height is treated like time).\n",
        "input_dim = 28\n",
        "\n",
        "units = 64\n",
        "output_size = 10  # labels are from 0 to 9\n",
        "\n",
        "# Build the RNN model\n",
        "def build_model(allow_cudnn_kernel=True):\n",
        "    # CuDNN is only available at the layer level, and not at the cell level.\n",
        "    # This means `LSTM(units)` will use the CuDNN kernel,\n",
        "    # while RNN(LSTMCell(units)) will run on non-CuDNN kernel.\n",
        "    if allow_cudnn_kernel:\n",
        "        # The LSTM layer with default options uses CuDNN.\n",
        "        lstm_layer = keras.layers.LSTM(units, input_shape=(None, input_dim))\n",
        "    else:\n",
        "        # Wrapping a LSTMCell in a RNN layer will not use CuDNN.\n",
        "        lstm_layer = keras.layers.RNN(\n",
        "            keras.layers.LSTMCell(units), input_shape=(None, input_dim)\n",
        "        )\n",
        "    model = keras.models.Sequential(\n",
        "        [\n",
        "            lstm_layer,\n",
        "            keras.layers.BatchNormalization(),\n",
        "            keras.layers.Dense(output_size),\n",
        "        ]\n",
        "    )\n",
        "    return model"
      ],
      "execution_count": 8,
      "outputs": []
    },
    {
      "cell_type": "markdown",
      "metadata": {
        "id": "ZZdnOxaDHHNO"
      },
      "source": [
        "## Load dataset"
      ]
    },
    {
      "cell_type": "code",
      "metadata": {
        "colab": {
          "base_uri": "https://localhost:8080/"
        },
        "id": "FlOS_CHbGgf0",
        "outputId": "ec2a14cb-b9bb-4fa6-86b5-d0b7977c68aa"
      },
      "source": [
        "mnist = keras.datasets.mnist\n",
        "\n",
        "(x_train, y_train), (x_test, y_test) = mnist.load_data()\n",
        "x_train, x_test = x_train / 255.0, x_test / 255.0\n",
        "sample, sample_label = x_train[0], y_train[0]"
      ],
      "execution_count": 9,
      "outputs": [
        {
          "output_type": "stream",
          "text": [
            "Downloading data from https://storage.googleapis.com/tensorflow/tf-keras-datasets/mnist.npz\n",
            "11493376/11490434 [==============================] - 0s 0us/step\n"
          ],
          "name": "stdout"
        }
      ]
    },
    {
      "cell_type": "markdown",
      "metadata": {
        "id": "EAh7vhRzG-nl"
      },
      "source": [
        "### CuDNN Model"
      ]
    },
    {
      "cell_type": "code",
      "metadata": {
        "colab": {
          "base_uri": "https://localhost:8080/"
        },
        "id": "PdDwpeiUGsBA",
        "outputId": "4fce271c-33bc-4b95-d83e-27f4b3b1910c"
      },
      "source": [
        "model = build_model(allow_cudnn_kernel=True)\n",
        "\n",
        "model.compile(\n",
        "    loss=keras.losses.SparseCategoricalCrossentropy(from_logits=True),\n",
        "    optimizer=\"sgd\",\n",
        "    metrics=[\"accuracy\"],\n",
        ")\n",
        "\n",
        "\n",
        "model.fit(\n",
        "    x_train, y_train, validation_data=(x_test, y_test), batch_size=batch_size, epochs=1\n",
        ")"
      ],
      "execution_count": 10,
      "outputs": [
        {
          "output_type": "stream",
          "text": [
            "938/938 [==============================] - 20s 19ms/step - loss: 1.3214 - accuracy: 0.5718 - val_loss: 1.5953 - val_accuracy: 0.4630\n"
          ],
          "name": "stdout"
        },
        {
          "output_type": "execute_result",
          "data": {
            "text/plain": [
              "<tensorflow.python.keras.callbacks.History at 0x7f4518530a10>"
            ]
          },
          "metadata": {
            "tags": []
          },
          "execution_count": 10
        }
      ]
    },
    {
      "cell_type": "markdown",
      "metadata": {
        "id": "SDh1sSN7G3OR"
      },
      "source": [
        "### Non CuDNN Model"
      ]
    },
    {
      "cell_type": "code",
      "metadata": {
        "colab": {
          "base_uri": "https://localhost:8080/"
        },
        "id": "O5J1EGq4G0Nc",
        "outputId": "c92f3ae7-7fd9-4490-a019-586b56ee14a2"
      },
      "source": [
        "noncudnn_model = build_model(allow_cudnn_kernel=False)\n",
        "noncudnn_model.set_weights(model.get_weights())\n",
        "noncudnn_model.compile(\n",
        "    loss=keras.losses.SparseCategoricalCrossentropy(from_logits=True),\n",
        "    optimizer=\"sgd\",\n",
        "    metrics=[\"accuracy\"],\n",
        ")\n",
        "noncudnn_model.fit(\n",
        "    x_train, y_train, validation_data=(x_test, y_test), batch_size=batch_size, epochs=1\n",
        ")"
      ],
      "execution_count": 11,
      "outputs": [
        {
          "output_type": "stream",
          "text": [
            "938/938 [==============================] - 19s 18ms/step - loss: 0.4427 - accuracy: 0.8683 - val_loss: 0.3946 - val_accuracy: 0.8643\n"
          ],
          "name": "stdout"
        },
        {
          "output_type": "execute_result",
          "data": {
            "text/plain": [
              "<tensorflow.python.keras.callbacks.History at 0x7f4517c7a590>"
            ]
          },
          "metadata": {
            "tags": []
          },
          "execution_count": 11
        }
      ]
    },
    {
      "cell_type": "markdown",
      "metadata": {
        "id": "eo4O7BLxHwia"
      },
      "source": [
        "## Second Model\n"
      ]
    },
    {
      "cell_type": "code",
      "metadata": {
        "colab": {
          "base_uri": "https://localhost:8080/"
        },
        "id": "3NCs6njoHkZw",
        "outputId": "57d01f2e-6dbf-4d74-d23c-b452733f9b6b"
      },
      "source": [
        "model = build_model(allow_cudnn_kernel=True)\n",
        "\n",
        "model.compile(\n",
        "    loss=keras.losses.SparseCategoricalCrossentropy(from_logits=True),\n",
        "    optimizer=\"sgd\",\n",
        "    metrics=[\"accuracy\"],\n",
        ")\n",
        "\n",
        "\n",
        "model.fit(\n",
        "    x_train, y_train, validation_data=(x_test, y_test), batch_size=batch_size, epochs=20\n",
        ")"
      ],
      "execution_count": 12,
      "outputs": [
        {
          "output_type": "stream",
          "text": [
            "Epoch 1/20\n",
            "938/938 [==============================] - 19s 19ms/step - loss: 1.3186 - accuracy: 0.5686 - val_loss: 0.5196 - val_accuracy: 0.8359\n",
            "Epoch 2/20\n",
            "938/938 [==============================] - 17s 19ms/step - loss: 0.4559 - accuracy: 0.8581 - val_loss: 0.3468 - val_accuracy: 0.8888\n",
            "Epoch 3/20\n",
            "938/938 [==============================] - 17s 19ms/step - loss: 0.2757 - accuracy: 0.9186 - val_loss: 0.2185 - val_accuracy: 0.9373\n",
            "Epoch 4/20\n",
            "938/938 [==============================] - 17s 19ms/step - loss: 0.2140 - accuracy: 0.9356 - val_loss: 0.1640 - val_accuracy: 0.9483\n",
            "Epoch 5/20\n",
            "938/938 [==============================] - 17s 18ms/step - loss: 0.1728 - accuracy: 0.9485 - val_loss: 0.1643 - val_accuracy: 0.9504\n",
            "Epoch 6/20\n",
            "938/938 [==============================] - 17s 18ms/step - loss: 0.1554 - accuracy: 0.9540 - val_loss: 0.2141 - val_accuracy: 0.9283\n",
            "Epoch 7/20\n",
            "938/938 [==============================] - 17s 18ms/step - loss: 0.1385 - accuracy: 0.9584 - val_loss: 0.1194 - val_accuracy: 0.9640\n",
            "Epoch 8/20\n",
            "938/938 [==============================] - 17s 19ms/step - loss: 0.1235 - accuracy: 0.9626 - val_loss: 0.1955 - val_accuracy: 0.9320\n",
            "Epoch 9/20\n",
            "938/938 [==============================] - 17s 18ms/step - loss: 0.1131 - accuracy: 0.9659 - val_loss: 0.1802 - val_accuracy: 0.9400\n",
            "Epoch 10/20\n",
            "938/938 [==============================] - 17s 18ms/step - loss: 0.1077 - accuracy: 0.9660 - val_loss: 0.1886 - val_accuracy: 0.9406\n",
            "Epoch 11/20\n",
            "938/938 [==============================] - 17s 18ms/step - loss: 0.0991 - accuracy: 0.9700 - val_loss: 0.0903 - val_accuracy: 0.9704\n",
            "Epoch 12/20\n",
            "938/938 [==============================] - 17s 18ms/step - loss: 0.0944 - accuracy: 0.9716 - val_loss: 0.1152 - val_accuracy: 0.9636\n",
            "Epoch 13/20\n",
            "938/938 [==============================] - 17s 19ms/step - loss: 0.0900 - accuracy: 0.9724 - val_loss: 0.0817 - val_accuracy: 0.9741\n",
            "Epoch 14/20\n",
            "938/938 [==============================] - 17s 18ms/step - loss: 0.0864 - accuracy: 0.9739 - val_loss: 0.0872 - val_accuracy: 0.9728\n",
            "Epoch 15/20\n",
            "938/938 [==============================] - 17s 18ms/step - loss: 0.0788 - accuracy: 0.9763 - val_loss: 0.0866 - val_accuracy: 0.9715\n",
            "Epoch 16/20\n",
            "938/938 [==============================] - 17s 18ms/step - loss: 0.0753 - accuracy: 0.9770 - val_loss: 0.0786 - val_accuracy: 0.9746\n",
            "Epoch 17/20\n",
            "938/938 [==============================] - 17s 18ms/step - loss: 0.0736 - accuracy: 0.9770 - val_loss: 0.0698 - val_accuracy: 0.9769\n",
            "Epoch 18/20\n",
            "938/938 [==============================] - 17s 18ms/step - loss: 0.0692 - accuracy: 0.9782 - val_loss: 0.0924 - val_accuracy: 0.9714\n",
            "Epoch 19/20\n",
            "938/938 [==============================] - 17s 18ms/step - loss: 0.0677 - accuracy: 0.9788 - val_loss: 0.0779 - val_accuracy: 0.9759\n",
            "Epoch 20/20\n",
            "938/938 [==============================] - 17s 18ms/step - loss: 0.0663 - accuracy: 0.9786 - val_loss: 0.0757 - val_accuracy: 0.9754\n"
          ],
          "name": "stdout"
        },
        {
          "output_type": "execute_result",
          "data": {
            "text/plain": [
              "<tensorflow.python.keras.callbacks.History at 0x7f4514b29790>"
            ]
          },
          "metadata": {
            "tags": []
          },
          "execution_count": 12
        }
      ]
    },
    {
      "cell_type": "code",
      "metadata": {
        "colab": {
          "base_uri": "https://localhost:8080/"
        },
        "id": "QDW17ci6Kqhk",
        "outputId": "5298c033-07ea-4c64-8d62-bd19eb323ffb"
      },
      "source": [
        "## Compare with nonCuDNN\n",
        "\n",
        "noncudnn_model = build_model(allow_cudnn_kernel=False)\n",
        "noncudnn_model.set_weights(model.get_weights())\n",
        "noncudnn_model.compile(\n",
        "    loss=keras.losses.SparseCategoricalCrossentropy(from_logits=True),\n",
        "    optimizer=\"sgd\",\n",
        "    metrics=[\"accuracy\"],\n",
        ")\n",
        "noncudnn_model.fit(\n",
        "    x_train, y_train, validation_data=(x_test, y_test), batch_size=batch_size, epochs=20\n",
        ")"
      ],
      "execution_count": 13,
      "outputs": [
        {
          "output_type": "stream",
          "text": [
            "Epoch 1/20\n",
            "938/938 [==============================] - 18s 18ms/step - loss: 0.0591 - accuracy: 0.9818 - val_loss: 0.0638 - val_accuracy: 0.9796\n",
            "Epoch 2/20\n",
            "938/938 [==============================] - 17s 18ms/step - loss: 0.0605 - accuracy: 0.9814 - val_loss: 0.0722 - val_accuracy: 0.9766\n",
            "Epoch 3/20\n",
            "938/938 [==============================] - 17s 18ms/step - loss: 0.0585 - accuracy: 0.9820 - val_loss: 0.0600 - val_accuracy: 0.9809\n",
            "Epoch 4/20\n",
            "938/938 [==============================] - 17s 18ms/step - loss: 0.0541 - accuracy: 0.9843 - val_loss: 0.1403 - val_accuracy: 0.9588\n",
            "Epoch 5/20\n",
            "938/938 [==============================] - 17s 18ms/step - loss: 0.0566 - accuracy: 0.9824 - val_loss: 0.0662 - val_accuracy: 0.9788\n",
            "Epoch 6/20\n",
            "938/938 [==============================] - 17s 18ms/step - loss: 0.0531 - accuracy: 0.9838 - val_loss: 0.0591 - val_accuracy: 0.9804\n",
            "Epoch 7/20\n",
            "938/938 [==============================] - 17s 18ms/step - loss: 0.0503 - accuracy: 0.9834 - val_loss: 0.0771 - val_accuracy: 0.9766\n",
            "Epoch 8/20\n",
            "938/938 [==============================] - 17s 18ms/step - loss: 0.0492 - accuracy: 0.9846 - val_loss: 0.1236 - val_accuracy: 0.9609\n",
            "Epoch 9/20\n",
            "938/938 [==============================] - 17s 19ms/step - loss: 0.0466 - accuracy: 0.9848 - val_loss: 0.0533 - val_accuracy: 0.9838\n",
            "Epoch 10/20\n",
            "938/938 [==============================] - 17s 18ms/step - loss: 0.0480 - accuracy: 0.9850 - val_loss: 0.0801 - val_accuracy: 0.9744\n",
            "Epoch 11/20\n",
            "938/938 [==============================] - 17s 18ms/step - loss: 0.0445 - accuracy: 0.9861 - val_loss: 0.0632 - val_accuracy: 0.9818\n",
            "Epoch 12/20\n",
            "938/938 [==============================] - 17s 18ms/step - loss: 0.0451 - accuracy: 0.9863 - val_loss: 0.0566 - val_accuracy: 0.9810\n",
            "Epoch 13/20\n",
            "938/938 [==============================] - 17s 18ms/step - loss: 0.0442 - accuracy: 0.9862 - val_loss: 0.0514 - val_accuracy: 0.9834\n",
            "Epoch 14/20\n",
            "938/938 [==============================] - 17s 18ms/step - loss: 0.0408 - accuracy: 0.9871 - val_loss: 0.0540 - val_accuracy: 0.9830\n",
            "Epoch 15/20\n",
            "938/938 [==============================] - 17s 18ms/step - loss: 0.0426 - accuracy: 0.9862 - val_loss: 0.0489 - val_accuracy: 0.9846\n",
            "Epoch 16/20\n",
            "938/938 [==============================] - 17s 18ms/step - loss: 0.0405 - accuracy: 0.9867 - val_loss: 0.0600 - val_accuracy: 0.9816\n",
            "Epoch 17/20\n",
            "938/938 [==============================] - 17s 18ms/step - loss: 0.0406 - accuracy: 0.9879 - val_loss: 0.0479 - val_accuracy: 0.9850\n",
            "Epoch 18/20\n",
            "938/938 [==============================] - 17s 18ms/step - loss: 0.0398 - accuracy: 0.9877 - val_loss: 0.0498 - val_accuracy: 0.9833\n",
            "Epoch 19/20\n",
            "938/938 [==============================] - 17s 18ms/step - loss: 0.0362 - accuracy: 0.9887 - val_loss: 0.0593 - val_accuracy: 0.9811\n",
            "Epoch 20/20\n",
            "938/938 [==============================] - 17s 18ms/step - loss: 0.0389 - accuracy: 0.9874 - val_loss: 0.0437 - val_accuracy: 0.9857\n"
          ],
          "name": "stdout"
        },
        {
          "output_type": "execute_result",
          "data": {
            "text/plain": [
              "<tensorflow.python.keras.callbacks.History at 0x7f45144e96d0>"
            ]
          },
          "metadata": {
            "tags": []
          },
          "execution_count": 13
        }
      ]
    }
  ]
}